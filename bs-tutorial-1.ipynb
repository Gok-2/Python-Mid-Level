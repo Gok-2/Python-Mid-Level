{
 "cells": [
  {
   "attachments": {},
   "cell_type": "markdown",
   "metadata": {},
   "source": [
    "TR-Gerekli kütüphaneleri çağırıyoruz \n",
    "<br>EN-Import the required libraries"
   ]
  },
  {
   "cell_type": "code",
   "execution_count": 47,
   "metadata": {},
   "outputs": [],
   "source": [
    "import requests\n",
    "from bs4 import BeautifulSoup"
   ]
  },
  {
   "attachments": {},
   "cell_type": "markdown",
   "metadata": {},
   "source": [
    "TR-Kullanacağımız sitelerin bağlantılarını tanımlıyoruz.[requests.get(**Bu linkteki siteye ulaşmak için istek gönderiyoruz**)]\n",
    "<br>EN-Defining the links of that sites we will use.[requests.get(**We send a request to reach the site at this link**)]"
   ]
  },
  {
   "cell_type": "code",
   "execution_count": 48,
   "metadata": {},
   "outputs": [],
   "source": [
    "site_url = \"https://realpython.github.io/fake-jobs/\"\n",
    "link = requests.get(site_url)"
   ]
  },
  {
   "attachments": {},
   "cell_type": "markdown",
   "metadata": {},
   "source": [
    "----\n",
    "TR- \n",
    "<br>*soup* değişkenine gitmek istediğimiz sitenin kaynak kodlarına ne şekilde ulaşacağımızı tanımlıyoruz.[html.parser yerine lxml tipi de olabilirdi]\n",
    "<br>NOT: Kullanacağımız sitenin kaynak kodlarına ulaşıp hangi veriyi almak istediğimize kodlarına göz atmanızı öneririm. Bu sayede çok daha rahat anlayabilirsiniz.\n",
    "<br>*reult* değişkenini soup.find() fonksiyonu içerisine verileri çekmek istediğimiz kod bloğunun adresini vererek kullanıyoruz. \n",
    "<br>*steve_jobs* değişkenini de bir önceki basamağın içerisinde tırnak içinde verilen sınıfa ait spesifik verileri almak için kullanıyoruz.\n",
    "<br>NOT:\n",
    "<br>find() fonksiyonu = Verilen etiketler arasındaki ilk değeri döndürür.\n",
    "<br>find_all() fonksiyonu = Verilen etiketin tüm öğelerini döndürür.\n",
    "\n",
    "<br>EN-\n",
    "<br>We use the *soup* variable to define that sites' source codes that we want to reach.[that can be lxml instead of html.parser]\n",
    "<br>NOT: I suggest you to take a look on source codes that you want to pull data.\n",
    "<br>We use the *result* variable to pull datas from code blocks in soup.find() function.\n",
    "<br>We use the *steve_jobs* varibale to pull some specific datas inside the quotes from the previous step.\n",
    "<br>NOT:\n",
    "<br>find() function = return the first element of given tag. \n",
    "<br>find_all() function = return the all the element of given tag.\n",
    "\n"
   ]
  },
  {
   "cell_type": "code",
   "execution_count": 49,
   "metadata": {},
   "outputs": [],
   "source": [
    "soup = BeautifulSoup(link.content, \"html.parser\")\n",
    "result = soup.find(id=\"ResultsContainer\")\n",
    "steve_jobs = result.find_all(\"h2\", class_=\"title is-5\")"
   ]
  },
  {
   "attachments": {},
   "cell_type": "markdown",
   "metadata": {},
   "source": [
    "TR-\n",
    "<br>Seçtiğimiz veriyi ekrana yazdırıyoruz. Verimiz find_all fonksiyonu ile bulunduğu için çektiğimiz tüm dataları bir liste şeklinde yazdırmayı tercih ettim.\n",
    "<br>EN-\n",
    "<br>Print the data on screen. I prefer to print our data as a list because of we used the find_all function."
   ]
  },
  {
   "cell_type": "code",
   "execution_count": 51,
   "metadata": {},
   "outputs": [
    {
     "name": "stdout",
     "output_type": "stream",
     "text": [
      "Senior Python Developer\n",
      "Energy engineer\n",
      "Legal executive\n",
      "Fitness centre manager\n",
      "Product manager\n",
      "Medical technical officer\n",
      "Physiological scientist\n",
      "Textile designer\n",
      "Television floor manager\n",
      "Waste management officer\n",
      "Software Engineer (Python)\n",
      "Interpreter\n",
      "Architect\n",
      "Meteorologist\n",
      "Audiological scientist\n",
      "English as a second language teacher\n",
      "Surgeon\n",
      "Equities trader\n",
      "Newspaper journalist\n",
      "Materials engineer\n",
      "Python Programmer (Entry-Level)\n",
      "Product/process development scientist\n",
      "Scientist, research (maths)\n",
      "Ecologist\n",
      "Materials engineer\n",
      "Historic buildings inspector/conservation officer\n",
      "Data scientist\n",
      "Psychiatrist\n",
      "Structural engineer\n",
      "Immigration officer\n",
      "Python Programmer (Entry-Level)\n",
      "Neurosurgeon\n",
      "Broadcast engineer\n",
      "Make\n",
      "Nurse, adult\n",
      "Air broker\n",
      "Editor, film/video\n",
      "Production assistant, radio\n",
      "Engineer, communications\n",
      "Sales executive\n",
      "Software Developer (Python)\n",
      "Futures trader\n",
      "Tour manager\n",
      "Cytogeneticist\n",
      "Designer, multimedia\n",
      "Trade union research officer\n",
      "Chemist, analytical\n",
      "Programmer, multimedia\n",
      "Engineer, broadcasting (operations)\n",
      "Teacher, primary school\n",
      "Python Developer\n",
      "Manufacturing systems engineer\n",
      "Producer, television/film/video\n",
      "Scientist, forensic\n",
      "Bonds trader\n",
      "Editorial assistant\n",
      "Photographer\n",
      "Retail banker\n",
      "Jewellery designer\n",
      "Ophthalmologist\n",
      "Back-End Web Developer (Python, Django)\n",
      "Licensed conveyancer\n",
      "Futures trader\n",
      "Counselling psychologist\n",
      "Insurance underwriter\n",
      "Engineer, automotive\n",
      "Producer, radio\n",
      "Dispensing optician\n",
      "Designer, fashion/clothing\n",
      "Chartered loss adjuster\n",
      "Back-End Web Developer (Python, Django)\n",
      "Forest/woodland manager\n",
      "Clinical cytogeneticist\n",
      "Print production planner\n",
      "Systems developer\n",
      "Graphic designer\n",
      "Writer\n",
      "Field seismologist\n",
      "Chief Strategy Officer\n",
      "Air cabin crew\n",
      "Python Programmer (Entry-Level)\n",
      "Warden/ranger\n",
      "Sports therapist\n",
      "Arts development officer\n",
      "Printmaker\n",
      "Health and safety adviser\n",
      "Manufacturing systems engineer\n",
      "Programmer, applications\n",
      "Medical physicist\n",
      "Media planner\n",
      "Software Developer (Python)\n",
      "Surveyor, land/geomatics\n",
      "Legal executive\n",
      "Librarian, academic\n",
      "Barrister\n",
      "Museum/gallery exhibitions officer\n",
      "Radiographer, diagnostic\n",
      "Database administrator\n",
      "Furniture designer\n",
      "Ship broker\n"
     ]
    }
   ],
   "source": [
    "titles = []\n",
    "\n",
    "for title in steve_jobs:\n",
    "    titles.append(title.text)\n",
    "print(*titles, sep=\"\\n\")\n"
   ]
  }
 ],
 "metadata": {
  "kernelspec": {
   "display_name": "Python 3",
   "language": "python",
   "name": "python3"
  },
  "language_info": {
   "codemirror_mode": {
    "name": "ipython",
    "version": 3
   },
   "file_extension": ".py",
   "mimetype": "text/x-python",
   "name": "python",
   "nbconvert_exporter": "python",
   "pygments_lexer": "ipython3",
   "version": "3.9.5"
  },
  "orig_nbformat": 4
 },
 "nbformat": 4,
 "nbformat_minor": 2
}
